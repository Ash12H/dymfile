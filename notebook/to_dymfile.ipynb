{
 "cells": [
  {
   "cell_type": "code",
   "execution_count": 1,
   "metadata": {},
   "outputs": [],
   "source": [
    "import numpy as np\n",
    "\n",
    "def write_var_dym(file_out, tvect, x, y, mask, data, verbose=True):\n",
    "    \"\"\"\n",
    "    Writes data to a DYM file.\n",
    "\n",
    "    Parameters\n",
    "    ----------\n",
    "    file_out : str\n",
    "        The name of the DYM file.\n",
    "    tvect : numpy.ndarray\n",
    "        The date vector in decimal format.\n",
    "    x : numpy.ndarray\n",
    "        The vector of longitudes.\n",
    "    y : numpy.ndarray\n",
    "        The vector of latitudes.\n",
    "    mask : numpy.ndarray\n",
    "        The land mask - a matrix of integers 0 - 2, with\n",
    "        0 for land, 1 for the sea with only one layer (nearshore),\n",
    "        2 for the sea with two layers, and 3 for the sea with\n",
    "        three pelagic layers through the depth column.\n",
    "    data : numpy.ndarray\n",
    "        The 3D array of data to be written in the DYM file.\n",
    "    verbose : bool, optional\n",
    "        Flag controlling the verbosity of the function.\n",
    "        Default is True.\n",
    "\n",
    "    Returns\n",
    "    -------\n",
    "    None\n",
    "    \"\"\"\n",
    "    if verbose:\n",
    "        print(f\"Writing file {file_out}...\")\n",
    "    \n",
    "    # Initialization\n",
    "    Idfunc = 0\n",
    "    nlon = len(x)\n",
    "    nlat = len(y)\n",
    "    nlevel = len(tvect)\n",
    "    xlon = np.tile(x, (nlat, 1))\n",
    "    ylat = np.repeat(y, nlon).reshape(nlat, nlon)[:, ::-1]\n",
    "    \n",
    "    # Writing\n",
    "    with open(file_out, 'wb') as con:\n",
    "        con.write(b'DYM2')\n",
    "        con.write(Idfunc.to_bytes(4, byteorder='little'))\n",
    "        con.write(np.nanmin(data).astype('float32').tobytes())\n",
    "        con.write(np.nanmax(data).astype('float32').tobytes())\n",
    "        con.write(nlon.to_bytes(4, byteorder='little'))\n",
    "        con.write(nlat.to_bytes(4, byteorder='little'))\n",
    "        con.write(len(tvect).to_bytes(4, byteorder='little'))\n",
    "        con.write(tvect[0].astype('float32').tobytes())\n",
    "        con.write(tvect[-1].astype('float32').tobytes())\n",
    "        \n",
    "        for i in range(nlat):\n",
    "            con.write(xlon[i, :].astype('float32').tobytes())\n",
    "        \n",
    "        for i in range(nlat):\n",
    "            con.write(ylat[i, :].astype('float32').tobytes())\n",
    "        \n",
    "        con.write(tvect.astype('float32').tobytes())\n",
    "        \n",
    "        for i in range(nlat):\n",
    "            con.write(mask[i, :].astype('int32').tobytes())  # Not recognized by C and Java\n",
    "        \n",
    "        # Control for NaN values\n",
    "        data = np.where(np.isnan(data), -999, data)\n",
    "        if len(data.shape) == 3 and data.shape[0] != nlevel:\n",
    "            print(\"WARNING: number of matrices is not equal to nlevel!\")\n",
    "            data[:nlevel, :, :] = data[0:nlevel, :, :]\n",
    "        \n",
    "        for ti in range(nlevel):\n",
    "            dat = np.apply_along_axis(np.flip, 0, data[ti, :, :]) if len(data.shape) == 3 else np.flip(data, axis=0)\n",
    "            for i in range(nlat):\n",
    "                con.write(dat[i, :].astype('float32').tobytes())\n",
    "    \n",
    "    print(f\"File {file_out} written.\")\n",
    "\n",
    "# Example usage\n",
    "# write_var_dym(\"sst.dym\", tt, x, y, mask, var)"
   ]
  },
  {
   "cell_type": "code",
   "execution_count": 20,
   "metadata": {},
   "outputs": [],
   "source": [
    "file_out=\"./coucou.txt\"\n",
    "tvect=np.arange(np.datetime64(\"2000-01-01\"),np.datetime64(\"2000-01-11\"))\n",
    "x=np.arange(0.0, 360.0, 1.0) # lon\n",
    "y=np.arange(0.0, 180.0, 1.0) # lat\n",
    "data=np.zeros((len(tvect), len(y), len(x)))\n",
    "mask=np.full((len(y), len(x)), 3)"
   ]
  },
  {
   "cell_type": "code",
   "execution_count": 21,
   "metadata": {},
   "outputs": [
    {
     "name": "stdout",
     "output_type": "stream",
     "text": [
      "Writing file ./coucou.txt...\n",
      "File ./coucou.txt written.\n"
     ]
    }
   ],
   "source": [
    "write_var_dym(\n",
    "    file_out=file_out,\n",
    "    tvect=tvect,\n",
    "    x=x,\n",
    "    y=y,\n",
    "    mask=mask, data=data\n",
    ")"
   ]
  },
  {
   "cell_type": "code",
   "execution_count": null,
   "metadata": {},
   "outputs": [],
   "source": []
  }
 ],
 "metadata": {
  "kernelspec": {
   "display_name": "Python 3",
   "language": "python",
   "name": "python3"
  },
  "language_info": {
   "codemirror_mode": {
    "name": "ipython",
    "version": 3
   },
   "file_extension": ".py",
   "mimetype": "text/x-python",
   "name": "python",
   "nbconvert_exporter": "python",
   "pygments_lexer": "ipython3",
   "version": "3.11.3"
  },
  "orig_nbformat": 4
 },
 "nbformat": 4,
 "nbformat_minor": 2
}
